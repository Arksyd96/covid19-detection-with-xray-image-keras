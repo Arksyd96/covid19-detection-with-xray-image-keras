{
 "cells": [
  {
   "cell_type": "markdown",
   "metadata": {},
   "source": [
    "# Imports :"
   ]
  },
  {
   "cell_type": "code",
   "execution_count": 7,
   "metadata": {},
   "outputs": [
    {
     "name": "stdout",
     "output_type": "stream",
     "text": [
      "imported\n"
     ]
    }
   ],
   "source": [
    "import numpy as np\n",
    "import pandas as pd\n",
    "import os\n",
    "import cv2\n",
    "from shutil import copy2\n",
    "\n",
    "from tensorflow.keras.layers import Conv2D, Input, LeakyReLU, BatchNormalization, Flatten, Dense\n",
    "from tensorflow.keras.models import Model\n",
    "from tensorflow.keras.preprocessing.image import ImageDataGenerator\n",
    "\n",
    "print(\"imported\")"
   ]
  },
  {
   "cell_type": "markdown",
   "metadata": {},
   "source": [
    "## Constants :"
   ]
  },
  {
   "cell_type": "code",
   "execution_count": 8,
   "metadata": {},
   "outputs": [],
   "source": [
    "path = 'images/'\n",
    "img_size = (224, 224)"
   ]
  },
  {
   "cell_type": "markdown",
   "metadata": {},
   "source": [
    "# Data preprocess :"
   ]
  },
  {
   "cell_type": "code",
   "execution_count": 3,
   "metadata": {},
   "outputs": [
    {
     "data": {
      "text/plain": [
       "Index(['patientid', 'offset', 'sex', 'age', 'finding', 'survival', 'intubated',\n",
       "       'intubation_present', 'went_icu', 'in_icu', 'needed_supplemental_O2',\n",
       "       'extubated', 'temperature', 'pO2_saturation', 'leukocyte_count',\n",
       "       'neutrophil_count', 'lymphocyte_count', 'view', 'modality', 'date',\n",
       "       'location', 'folder', 'filename', 'doi', 'url', 'license',\n",
       "       'clinical_notes', 'other_notes', 'Unnamed: 28'],\n",
       "      dtype='object')"
      ]
     },
     "execution_count": 3,
     "metadata": {},
     "output_type": "execute_result"
    }
   ],
   "source": [
    "data = pd.read_csv(\"metadata.csv\")\n",
    "data = data.dropna(subset=['finding'])\n",
    "data.columns"
   ]
  },
  {
   "cell_type": "markdown",
   "metadata": {},
   "source": [
    "## The columns that we're interested in are : finding, view, filename"
   ]
  },
  {
   "cell_type": "code",
   "execution_count": 9,
   "metadata": {},
   "outputs": [
    {
     "data": {
      "text/html": [
       "<div>\n",
       "<style scoped>\n",
       "    .dataframe tbody tr th:only-of-type {\n",
       "        vertical-align: middle;\n",
       "    }\n",
       "\n",
       "    .dataframe tbody tr th {\n",
       "        vertical-align: top;\n",
       "    }\n",
       "\n",
       "    .dataframe thead th {\n",
       "        text-align: right;\n",
       "    }\n",
       "</style>\n",
       "<table border=\"1\" class=\"dataframe\">\n",
       "  <thead>\n",
       "    <tr style=\"text-align: right;\">\n",
       "      <th></th>\n",
       "      <th>patientid</th>\n",
       "      <th>offset</th>\n",
       "      <th>sex</th>\n",
       "      <th>age</th>\n",
       "      <th>finding</th>\n",
       "      <th>survival</th>\n",
       "      <th>intubated</th>\n",
       "      <th>intubation_present</th>\n",
       "      <th>went_icu</th>\n",
       "      <th>in_icu</th>\n",
       "      <th>...</th>\n",
       "      <th>date</th>\n",
       "      <th>location</th>\n",
       "      <th>folder</th>\n",
       "      <th>filename</th>\n",
       "      <th>doi</th>\n",
       "      <th>url</th>\n",
       "      <th>license</th>\n",
       "      <th>clinical_notes</th>\n",
       "      <th>other_notes</th>\n",
       "      <th>Unnamed: 28</th>\n",
       "    </tr>\n",
       "  </thead>\n",
       "  <tbody>\n",
       "    <tr>\n",
       "      <td>0</td>\n",
       "      <td>2</td>\n",
       "      <td>0</td>\n",
       "      <td>M</td>\n",
       "      <td>65.0</td>\n",
       "      <td>COVID-19</td>\n",
       "      <td>Y</td>\n",
       "      <td>N</td>\n",
       "      <td>N</td>\n",
       "      <td>N</td>\n",
       "      <td>N</td>\n",
       "      <td>...</td>\n",
       "      <td>January 22, 2020</td>\n",
       "      <td>Cho Ray Hospital, Ho Chi Minh City, Vietnam</td>\n",
       "      <td>images</td>\n",
       "      <td>auntminnie-a-2020_01_28_23_51_6665_2020_01_28_...</td>\n",
       "      <td>10.1056/nejmc2001272</td>\n",
       "      <td>https://www.nejm.org/doi/full/10.1056/NEJMc200...</td>\n",
       "      <td>NaN</td>\n",
       "      <td>On January 22, 2020, a 65-year-old man with a ...</td>\n",
       "      <td>NaN</td>\n",
       "      <td>NaN</td>\n",
       "    </tr>\n",
       "    <tr>\n",
       "      <td>1</td>\n",
       "      <td>2</td>\n",
       "      <td>3</td>\n",
       "      <td>M</td>\n",
       "      <td>65.0</td>\n",
       "      <td>COVID-19</td>\n",
       "      <td>Y</td>\n",
       "      <td>N</td>\n",
       "      <td>N</td>\n",
       "      <td>N</td>\n",
       "      <td>N</td>\n",
       "      <td>...</td>\n",
       "      <td>January 25, 2020</td>\n",
       "      <td>Cho Ray Hospital, Ho Chi Minh City, Vietnam</td>\n",
       "      <td>images</td>\n",
       "      <td>auntminnie-b-2020_01_28_23_51_6665_2020_01_28_...</td>\n",
       "      <td>10.1056/nejmc2001272</td>\n",
       "      <td>https://www.nejm.org/doi/full/10.1056/NEJMc200...</td>\n",
       "      <td>NaN</td>\n",
       "      <td>On January 22, 2020, a 65-year-old man with a ...</td>\n",
       "      <td>NaN</td>\n",
       "      <td>NaN</td>\n",
       "    </tr>\n",
       "    <tr>\n",
       "      <td>2</td>\n",
       "      <td>2</td>\n",
       "      <td>5</td>\n",
       "      <td>M</td>\n",
       "      <td>65.0</td>\n",
       "      <td>COVID-19</td>\n",
       "      <td>Y</td>\n",
       "      <td>N</td>\n",
       "      <td>N</td>\n",
       "      <td>N</td>\n",
       "      <td>N</td>\n",
       "      <td>...</td>\n",
       "      <td>January 27, 2020</td>\n",
       "      <td>Cho Ray Hospital, Ho Chi Minh City, Vietnam</td>\n",
       "      <td>images</td>\n",
       "      <td>auntminnie-c-2020_01_28_23_51_6665_2020_01_28_...</td>\n",
       "      <td>10.1056/nejmc2001272</td>\n",
       "      <td>https://www.nejm.org/doi/full/10.1056/NEJMc200...</td>\n",
       "      <td>NaN</td>\n",
       "      <td>On January 22, 2020, a 65-year-old man with a ...</td>\n",
       "      <td>NaN</td>\n",
       "      <td>NaN</td>\n",
       "    </tr>\n",
       "    <tr>\n",
       "      <td>3</td>\n",
       "      <td>2</td>\n",
       "      <td>6</td>\n",
       "      <td>M</td>\n",
       "      <td>65.0</td>\n",
       "      <td>COVID-19</td>\n",
       "      <td>Y</td>\n",
       "      <td>N</td>\n",
       "      <td>N</td>\n",
       "      <td>N</td>\n",
       "      <td>N</td>\n",
       "      <td>...</td>\n",
       "      <td>January 28, 2020</td>\n",
       "      <td>Cho Ray Hospital, Ho Chi Minh City, Vietnam</td>\n",
       "      <td>images</td>\n",
       "      <td>auntminnie-d-2020_01_28_23_51_6665_2020_01_28_...</td>\n",
       "      <td>10.1056/nejmc2001272</td>\n",
       "      <td>https://www.nejm.org/doi/full/10.1056/NEJMc200...</td>\n",
       "      <td>NaN</td>\n",
       "      <td>On January 22, 2020, a 65-year-old man with a ...</td>\n",
       "      <td>NaN</td>\n",
       "      <td>NaN</td>\n",
       "    </tr>\n",
       "    <tr>\n",
       "      <td>4</td>\n",
       "      <td>4</td>\n",
       "      <td>0</td>\n",
       "      <td>F</td>\n",
       "      <td>52.0</td>\n",
       "      <td>COVID-19</td>\n",
       "      <td>NaN</td>\n",
       "      <td>N</td>\n",
       "      <td>N</td>\n",
       "      <td>N</td>\n",
       "      <td>N</td>\n",
       "      <td>...</td>\n",
       "      <td>January 25, 2020</td>\n",
       "      <td>Changhua Christian Hospital, Changhua City, Ta...</td>\n",
       "      <td>images</td>\n",
       "      <td>nejmc2001573_f1a.jpeg</td>\n",
       "      <td>10.1056/NEJMc2001573</td>\n",
       "      <td>https://www.nejm.org/doi/full/10.1056/NEJMc200...</td>\n",
       "      <td>NaN</td>\n",
       "      <td>diffuse infiltrates in the bilateral lower lungs</td>\n",
       "      <td>NaN</td>\n",
       "      <td>NaN</td>\n",
       "    </tr>\n",
       "  </tbody>\n",
       "</table>\n",
       "<p>5 rows × 29 columns</p>\n",
       "</div>"
      ],
      "text/plain": [
       "  patientid offset sex   age   finding survival intubated intubation_present  \\\n",
       "0         2      0   M  65.0  COVID-19        Y         N                  N   \n",
       "1         2      3   M  65.0  COVID-19        Y         N                  N   \n",
       "2         2      5   M  65.0  COVID-19        Y         N                  N   \n",
       "3         2      6   M  65.0  COVID-19        Y         N                  N   \n",
       "4         4      0   F  52.0  COVID-19      NaN         N                  N   \n",
       "\n",
       "  went_icu in_icu  ...              date  \\\n",
       "0        N      N  ...  January 22, 2020   \n",
       "1        N      N  ...  January 25, 2020   \n",
       "2        N      N  ...  January 27, 2020   \n",
       "3        N      N  ...  January 28, 2020   \n",
       "4        N      N  ...  January 25, 2020   \n",
       "\n",
       "                                            location  folder  \\\n",
       "0        Cho Ray Hospital, Ho Chi Minh City, Vietnam  images   \n",
       "1        Cho Ray Hospital, Ho Chi Minh City, Vietnam  images   \n",
       "2        Cho Ray Hospital, Ho Chi Minh City, Vietnam  images   \n",
       "3        Cho Ray Hospital, Ho Chi Minh City, Vietnam  images   \n",
       "4  Changhua Christian Hospital, Changhua City, Ta...  images   \n",
       "\n",
       "                                            filename                   doi  \\\n",
       "0  auntminnie-a-2020_01_28_23_51_6665_2020_01_28_...  10.1056/nejmc2001272   \n",
       "1  auntminnie-b-2020_01_28_23_51_6665_2020_01_28_...  10.1056/nejmc2001272   \n",
       "2  auntminnie-c-2020_01_28_23_51_6665_2020_01_28_...  10.1056/nejmc2001272   \n",
       "3  auntminnie-d-2020_01_28_23_51_6665_2020_01_28_...  10.1056/nejmc2001272   \n",
       "4                              nejmc2001573_f1a.jpeg  10.1056/NEJMc2001573   \n",
       "\n",
       "                                                 url license  \\\n",
       "0  https://www.nejm.org/doi/full/10.1056/NEJMc200...     NaN   \n",
       "1  https://www.nejm.org/doi/full/10.1056/NEJMc200...     NaN   \n",
       "2  https://www.nejm.org/doi/full/10.1056/NEJMc200...     NaN   \n",
       "3  https://www.nejm.org/doi/full/10.1056/NEJMc200...     NaN   \n",
       "4  https://www.nejm.org/doi/full/10.1056/NEJMc200...     NaN   \n",
       "\n",
       "                                      clinical_notes other_notes Unnamed: 28  \n",
       "0  On January 22, 2020, a 65-year-old man with a ...         NaN         NaN  \n",
       "1  On January 22, 2020, a 65-year-old man with a ...         NaN         NaN  \n",
       "2  On January 22, 2020, a 65-year-old man with a ...         NaN         NaN  \n",
       "3  On January 22, 2020, a 65-year-old man with a ...         NaN         NaN  \n",
       "4   diffuse infiltrates in the bilateral lower lungs         NaN         NaN  \n",
       "\n",
       "[5 rows x 29 columns]"
      ]
     },
     "execution_count": 9,
     "metadata": {},
     "output_type": "execute_result"
    }
   ],
   "source": [
    "data.head()"
   ]
  },
  {
   "cell_type": "markdown",
   "metadata": {},
   "source": [
    "## creating a specific folder for each class :"
   ]
  },
  {
   "cell_type": "code",
   "execution_count": 24,
   "metadata": {},
   "outputs": [],
   "source": [
    "if not os.path.exists('classes'):\n",
    "    os.makedirs('classes/positive')\n",
    "    os.makedirs('classes/negative')\n",
    "\n",
    "filenames = os.listdir(path)\n",
    "for file in filenames:\n",
    "    image = cv2.imread(path + file, cv2.IMREAD_GRAYSCALE)\n",
    "    image = cv2.resize(image, img_size)\n",
    "    img_data = data.where(data['filename'] == file).dropna(how='all')\n",
    "    \n",
    "    if(img_data['finding'].isna().all() or img_data['view'].values[0] == 'Axial'):\n",
    "        continue\n",
    "    \n",
    "    img_class = img_data['finding'].values[0]\n",
    "    repo = 'positive/' if (img_class == 'COVID-19') else 'negative/'\n",
    "    cv2.imwrite('classes/' + repo + file, image)\n",
    "    "
   ]
  },
  {
   "cell_type": "markdown",
   "metadata": {},
   "source": [
    "# Creating the model :"
   ]
  },
  {
   "cell_type": "code",
   "execution_count": 26,
   "metadata": {},
   "outputs": [
    {
     "name": "stdout",
     "output_type": "stream",
     "text": [
      "WARNING:tensorflow:From C:\\Users\\Kino\\Anaconda3\\envs\\deeplearning\\lib\\site-packages\\tensorflow\\python\\ops\\init_ops.py:1251: calling VarianceScaling.__init__ (from tensorflow.python.ops.init_ops) with dtype is deprecated and will be removed in a future version.\n",
      "Instructions for updating:\n",
      "Call initializer instance with the dtype argument instead of passing it to the constructor\n",
      "Model: \"model\"\n",
      "_________________________________________________________________\n",
      "Layer (type)                 Output Shape              Param #   \n",
      "=================================================================\n",
      "input_1 (InputLayer)         [(None, 224, 224, 1)]     0         \n",
      "_________________________________________________________________\n",
      "conv2d (Conv2D)              (None, 112, 112, 32)      320       \n",
      "_________________________________________________________________\n",
      "batch_normalization (BatchNo (None, 112, 112, 32)      128       \n",
      "_________________________________________________________________\n",
      "leaky_re_lu (LeakyReLU)      (None, 112, 112, 32)      0         \n",
      "_________________________________________________________________\n",
      "conv2d_1 (Conv2D)            (None, 56, 56, 64)        18496     \n",
      "_________________________________________________________________\n",
      "batch_normalization_1 (Batch (None, 56, 56, 64)        256       \n",
      "_________________________________________________________________\n",
      "leaky_re_lu_1 (LeakyReLU)    (None, 56, 56, 64)        0         \n",
      "_________________________________________________________________\n",
      "conv2d_2 (Conv2D)            (None, 28, 28, 128)       73856     \n",
      "_________________________________________________________________\n",
      "batch_normalization_2 (Batch (None, 28, 28, 128)       512       \n",
      "_________________________________________________________________\n",
      "leaky_re_lu_2 (LeakyReLU)    (None, 28, 28, 128)       0         \n",
      "_________________________________________________________________\n",
      "conv2d_3 (Conv2D)            (None, 14, 14, 256)       295168    \n",
      "_________________________________________________________________\n",
      "batch_normalization_3 (Batch (None, 14, 14, 256)       1024      \n",
      "_________________________________________________________________\n",
      "leaky_re_lu_3 (LeakyReLU)    (None, 14, 14, 256)       0         \n",
      "_________________________________________________________________\n",
      "conv2d_4 (Conv2D)            (None, 7, 7, 512)         1180160   \n",
      "_________________________________________________________________\n",
      "batch_normalization_4 (Batch (None, 7, 7, 512)         2048      \n",
      "_________________________________________________________________\n",
      "leaky_re_lu_4 (LeakyReLU)    (None, 7, 7, 512)         0         \n",
      "_________________________________________________________________\n",
      "flatten (Flatten)            (None, 25088)             0         \n",
      "_________________________________________________________________\n",
      "dense (Dense)                (None, 64)                1605696   \n",
      "_________________________________________________________________\n",
      "output (Dense)               (None, 2)                 130       \n",
      "=================================================================\n",
      "Total params: 3,177,794\n",
      "Trainable params: 3,175,810\n",
      "Non-trainable params: 1,984\n",
      "_________________________________________________________________\n"
     ]
    }
   ],
   "source": [
    "inp = Input(shape=img_size + (1,))\n",
    "\n",
    "X = Conv2D(32, (3, 3), (2, 2), padding='same', kernel_initializer='he_uniform')(inp)\n",
    "X = BatchNormalization(momentum=0.2)(X)\n",
    "X = LeakyReLU(alpha=0.3)(X)\n",
    "\n",
    "X = Conv2D(64, (3, 3), (2, 2), padding='same', kernel_initializer='he_uniform')(X)\n",
    "X = BatchNormalization(momentum=0.2)(X)\n",
    "X = LeakyReLU(alpha=0.3)(X)\n",
    "\n",
    "X = Conv2D(128, (3, 3), (2, 2), padding='same', kernel_initializer='he_uniform')(X)\n",
    "X = BatchNormalization(momentum=0.2)(X)\n",
    "X = LeakyReLU(alpha=0.3)(X)\n",
    "\n",
    "X = Conv2D(256, (3, 3), (2, 2), padding='same', kernel_initializer='he_uniform')(X)\n",
    "X = BatchNormalization(momentum=0.2)(X)\n",
    "X = LeakyReLU(alpha=0.3)(X)\n",
    "\n",
    "X = Conv2D(512, (3, 3), (2, 2), padding='same', kernel_initializer='he_uniform')(X)\n",
    "X = BatchNormalization(momentum=0.2)(X)\n",
    "X = LeakyReLU(alpha=0.3)(X)\n",
    "\n",
    "X = Flatten()(X)\n",
    "X = Dense(64, activation='relu', kernel_initializer='he_uniform')(X)\n",
    "X = Dense(2, activation='softmax', name='output')(X)\n",
    "\n",
    "model = Model(inp, X)\n",
    "model.summary()\n"
   ]
  },
  {
   "cell_type": "markdown",
   "metadata": {},
   "source": [
    "## Image data generator :"
   ]
  },
  {
   "cell_type": "code",
   "execution_count": 34,
   "metadata": {},
   "outputs": [
    {
     "name": "stdout",
     "output_type": "stream",
     "text": [
      "Found 690 images belonging to 2 classes.\n"
     ]
    }
   ],
   "source": [
    "datagen = ImageDataGenerator(rescale=1.0/255.0)\n",
    "\n",
    "generator = datagen.flow_from_directory('classes/',\n",
    "    class_mode='categorical', batch_size=32, target_size=(224, 224), color_mode=\"grayscale\", shuffle=True, seed=42\n",
    ")"
   ]
  },
  {
   "cell_type": "code",
   "execution_count": 36,
   "metadata": {},
   "outputs": [
    {
     "name": "stdout",
     "output_type": "stream",
     "text": [
      "Epoch 1/30\n",
      "22/22 [==============================] - 19s 868ms/step - loss: 1.3010 - acc: 0.6435 - val_loss: 0.6201 - val_acc: 0.6710\n",
      "Epoch 2/30\n",
      "22/22 [==============================] - 4s 163ms/step - loss: 0.6062 - acc: 0.6623 - val_loss: 0.5672 - val_acc: 0.6710\n",
      "Epoch 3/30\n",
      "22/22 [==============================] - 4s 166ms/step - loss: 0.5833 - acc: 0.6754 - val_loss: 0.5445 - val_acc: 0.6928\n",
      "Epoch 4/30\n",
      "22/22 [==============================] - 4s 163ms/step - loss: 0.5401 - acc: 0.6971 - val_loss: 0.4939 - val_acc: 0.7101\n",
      "Epoch 5/30\n",
      "22/22 [==============================] - 4s 162ms/step - loss: 0.4487 - acc: 0.7870 - val_loss: 0.3797 - val_acc: 0.8261\n",
      "Epoch 6/30\n",
      "22/22 [==============================] - 4s 161ms/step - loss: 0.3898 - acc: 0.8203 - val_loss: 0.3211 - val_acc: 0.8609\n",
      "Epoch 7/30\n",
      "22/22 [==============================] - 4s 166ms/step - loss: 0.2823 - acc: 0.8884 - val_loss: 0.2032 - val_acc: 0.9406\n",
      "Epoch 8/30\n",
      "22/22 [==============================] - 4s 169ms/step - loss: 0.2139 - acc: 0.9217 - val_loss: 0.0986 - val_acc: 0.9841\n",
      "Epoch 9/30\n",
      "22/22 [==============================] - 4s 164ms/step - loss: 0.0997 - acc: 0.9768 - val_loss: 0.0377 - val_acc: 0.9957\n",
      "Epoch 10/30\n",
      "22/22 [==============================] - 4s 160ms/step - loss: 0.0591 - acc: 0.9841 - val_loss: 0.0331 - val_acc: 0.9957\n",
      "Epoch 11/30\n",
      "22/22 [==============================] - 4s 162ms/step - loss: 0.0332 - acc: 0.9942 - val_loss: 0.0290 - val_acc: 0.9971\n",
      "Epoch 12/30\n",
      "22/22 [==============================] - 3s 159ms/step - loss: 0.0152 - acc: 0.9986 - val_loss: 0.0215 - val_acc: 0.9957\n",
      "Epoch 13/30\n",
      "22/22 [==============================] - 4s 160ms/step - loss: 0.0227 - acc: 0.9957 - val_loss: 0.0104 - val_acc: 0.9971\n",
      "Epoch 14/30\n",
      "22/22 [==============================] - 4s 159ms/step - loss: 0.0157 - acc: 0.9971 - val_loss: 0.0077 - val_acc: 0.9971\n",
      "Epoch 15/30\n",
      "22/22 [==============================] - 4s 160ms/step - loss: 0.0130 - acc: 0.9971 - val_loss: 0.0044 - val_acc: 0.9986\n",
      "Epoch 16/30\n",
      "22/22 [==============================] - 4s 159ms/step - loss: 0.0069 - acc: 0.9986 - val_loss: 0.0034 - val_acc: 1.0000\n",
      "Epoch 17/30\n",
      "22/22 [==============================] - 4s 160ms/step - loss: 0.0028 - acc: 0.9986 - val_loss: 0.0025 - val_acc: 1.0000\n",
      "Epoch 18/30\n",
      "22/22 [==============================] - 4s 164ms/step - loss: 0.0039 - acc: 0.9986 - val_loss: 0.0033 - val_acc: 0.9986\n",
      "Epoch 19/30\n",
      "22/22 [==============================] - 4s 160ms/step - loss: 0.0080 - acc: 0.9971 - val_loss: 0.0074 - val_acc: 0.9971\n",
      "Epoch 20/30\n",
      "22/22 [==============================] - 3s 155ms/step - loss: 0.0077 - acc: 0.9971 - val_loss: 0.0041 - val_acc: 0.9971\n",
      "Epoch 21/30\n",
      "22/22 [==============================] - 4s 162ms/step - loss: 0.0058 - acc: 0.9971 - val_loss: 0.0027 - val_acc: 0.9986\n",
      "Epoch 22/30\n",
      "22/22 [==============================] - 4s 165ms/step - loss: 0.0075 - acc: 0.9971 - val_loss: 0.0017 - val_acc: 0.9986\n",
      "Epoch 23/30\n",
      "22/22 [==============================] - 4s 160ms/step - loss: 0.0024 - acc: 0.9986 - val_loss: 0.0014 - val_acc: 0.9986\n",
      "Epoch 24/30\n",
      "22/22 [==============================] - 4s 161ms/step - loss: 0.0014 - acc: 0.9986 - val_loss: 0.0016 - val_acc: 0.9986\n",
      "Epoch 25/30\n",
      "22/22 [==============================] - 4s 162ms/step - loss: 8.5390e-04 - acc: 1.0000 - val_loss: 0.0014 - val_acc: 0.9986\n",
      "Epoch 26/30\n",
      "22/22 [==============================] - 4s 160ms/step - loss: 0.0023 - acc: 0.9971 - val_loss: 0.0015 - val_acc: 0.9986\n",
      "Epoch 27/30\n",
      "22/22 [==============================] - 4s 165ms/step - loss: 0.0013 - acc: 0.9986 - val_loss: 0.0013 - val_acc: 0.9986\n",
      "Epoch 28/30\n",
      "22/22 [==============================] - 3s 159ms/step - loss: 0.0012 - acc: 0.9986 - val_loss: 0.0011 - val_acc: 0.9986\n",
      "Epoch 29/30\n",
      "22/22 [==============================] - 4s 159ms/step - loss: 1.6487e-04 - acc: 1.0000 - val_loss: 0.0012 - val_acc: 0.9986\n",
      "Epoch 30/30\n",
      "22/22 [==============================] - 4s 160ms/step - loss: 0.0012 - acc: 0.9986 - val_loss: 0.0012 - val_acc: 0.9986\n"
     ]
    },
    {
     "data": {
      "text/plain": [
       "<tensorflow.python.keras.callbacks.History at 0x233a1495d30>"
      ]
     },
     "execution_count": 36,
     "metadata": {},
     "output_type": "execute_result"
    }
   ],
   "source": [
    "model.compile(loss='categorical_crossentropy', optimizer='adam', metrics=['accuracy'])\n",
    "model.fit_generator(generator=generator, steps_per_epoch=len(generator), \n",
    "                    validation_data=generator, validation_steps=len(generator),epochs=30)"
   ]
  },
  {
   "cell_type": "code",
   "execution_count": null,
   "metadata": {},
   "outputs": [],
   "source": []
  }
 ],
 "metadata": {
  "kernelspec": {
   "display_name": "Python 3",
   "language": "python",
   "name": "python3"
  },
  "language_info": {
   "codemirror_mode": {
    "name": "ipython",
    "version": 3
   },
   "file_extension": ".py",
   "mimetype": "text/x-python",
   "name": "python",
   "nbconvert_exporter": "python",
   "pygments_lexer": "ipython3",
   "version": "3.6.9"
  }
 },
 "nbformat": 4,
 "nbformat_minor": 4
}
